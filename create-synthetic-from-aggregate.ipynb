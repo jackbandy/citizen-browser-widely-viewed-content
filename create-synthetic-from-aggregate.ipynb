{
 "cells": [
  {
   "cell_type": "markdown",
   "id": "2f08a809",
   "metadata": {},
   "source": [
    "# Create Synthetic Dataset"
   ]
  },
  {
   "cell_type": "code",
   "execution_count": 1,
   "id": "614d8e0b",
   "metadata": {},
   "outputs": [],
   "source": [
    "import pandas as pd\n",
    "df_hits = pd.read_csv('data/q3/impressions-top-1000-domains.csv')\n",
    "df_users = pd.read_csv('data/q3/unique_users-top-1000-domains.csv')\n",
    "df = df_users.merge(df_hits,on='url_domain')"
   ]
  },
  {
   "cell_type": "code",
   "execution_count": 2,
   "id": "070d84a2",
   "metadata": {},
   "outputs": [],
   "source": [
    "# citizen browser had 1,917 panelists as of December 2020\n",
    "# these are the \"data subjects\" whose privacy would need to be protected\n",
    "user_ids = pd.Series(list(range(1,1919)))"
   ]
  },
  {
   "cell_type": "code",
   "execution_count": 3,
   "id": "e3ffd5c4",
   "metadata": {},
   "outputs": [],
   "source": [
    "# create a list of all impressions\n",
    "domain_impressions = []"
   ]
  },
  {
   "cell_type": "code",
   "execution_count": 4,
   "id": "125bf948",
   "metadata": {},
   "outputs": [],
   "source": [
    "# Q3 2021 was July 1st to September 30th\n",
    "dates_q3_2021 = pd.Series(pd.date_range(start=\"2021-07-01\",end=\"2021-09-30\").date)"
   ]
  },
  {
   "cell_type": "code",
   "execution_count": null,
   "id": "5e52f6b2",
   "metadata": {},
   "outputs": [],
   "source": [
    "for index, row in df.iterrows():\n",
    "    users = pd.Series(user_ids.sample(row['unique_users']))\n",
    "    # only include 10% of the impressions to reduce data size\n",
    "    for i in range(int(row['impressions'] / 10)):\n",
    "        to_append = {}\n",
    "        to_append['user_id'] = users.sample(1, ignore_index=True)[0]\n",
    "        to_append['impression_date'] = dates_q3_2021.sample(1, ignore_index=True)[0]\n",
    "        to_append['url_domain'] = row['url_domain']\n",
    "        domain_impressions.append(to_append)"
   ]
  },
  {
   "cell_type": "code",
   "execution_count": null,
   "id": "fdc932ee",
   "metadata": {},
   "outputs": [],
   "source": [
    "synthetic_impressions = pd.DataFrame(domain_impressions)\n",
    "synthetic.to_csv('synthetic_impressions/synthetic_q3_impressions.csv',index=False)\n",
    "synthetic.sample(1000).to_csv('synthetic_impressions/synthetic_q3_impressions_1k_sample.csv',index=False)"
   ]
  }
 ],
 "metadata": {
  "kernelspec": {
   "display_name": "Python 3 (ipykernel)",
   "language": "python",
   "name": "python3"
  },
  "language_info": {
   "codemirror_mode": {
    "name": "ipython",
    "version": 3
   },
   "file_extension": ".py",
   "mimetype": "text/x-python",
   "name": "python",
   "nbconvert_exporter": "python",
   "pygments_lexer": "ipython3",
   "version": "3.9.7"
  }
 },
 "nbformat": 4,
 "nbformat_minor": 5
}
