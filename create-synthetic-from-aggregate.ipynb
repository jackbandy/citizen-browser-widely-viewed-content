{
 "cells": [
  {
   "cell_type": "markdown",
   "id": "f123ca07",
   "metadata": {},
   "source": [
    "# Create Synthetic Dataset"
   ]
  },
  {
   "cell_type": "code",
   "execution_count": 1,
   "id": "03026bef",
   "metadata": {},
   "outputs": [],
   "source": [
    "import pandas as pd\n",
    "import random\n",
    "df_hits = pd.read_csv('data/q3/impressions-top-1000-domains.csv')\n",
    "df_users = pd.read_csv('data/q3/unique_users-top-1000-domains.csv')\n",
    "df = df_users.merge(df_hits,on='url_domain')"
   ]
  },
  {
   "cell_type": "code",
   "execution_count": 2,
   "id": "8df6d686",
   "metadata": {},
   "outputs": [],
   "source": [
    "# citizen browser had 1,917 panelists as of December 2020\n",
    "# these are the \"data subjects\" whose privacy would need to be protected\n",
    "user_ids = pd.Series(list(range(1,1919)))"
   ]
  },
  {
   "cell_type": "code",
   "execution_count": 3,
   "id": "9305ccb7",
   "metadata": {},
   "outputs": [],
   "source": [
    "# create an empty list to hold all impressions\n",
    "domain_impressions = []"
   ]
  },
  {
   "cell_type": "code",
   "execution_count": 4,
   "id": "fd7cee6a",
   "metadata": {},
   "outputs": [],
   "source": [
    "# create series / list of dates\n",
    "# Q3 2021 was July 1st to September 30th\n",
    "dates_q3_2021 = pd.Series(pd.date_range(start=\"2021-07-01\",end=\"2021-09-30\").date)\n",
    "\n",
    "# create simple distribution for \"n_impression\"\n",
    "# 60% had one impression, 20% had 2, 20%\n",
    "dist = [1,1,1,2,4]"
   ]
  },
  {
   "cell_type": "code",
   "execution_count": 5,
   "id": "08b9544e",
   "metadata": {},
   "outputs": [],
   "source": [
    "# synthesize impressions!\n",
    "for index, row in df.iterrows():\n",
    "    users = pd.Series(user_ids.sample(row['unique_users']))\n",
    "    # only include 10% of the impressions to reduce data size\n",
    "    for i in range(int(row['impressions'] / 10)):\n",
    "        to_append = {}\n",
    "        to_append['user_id'] = users.sample(1, ignore_index=True)[0]\n",
    "        to_append['date'] = dates_q3_2021.sample(1, ignore_index=True)[0]\n",
    "        to_append['n_impressions'] = random.sample(dist,1)[0]\n",
    "        to_append['url_domain'] = row['url_domain']\n",
    "        domain_impressions.append(to_append)"
   ]
  },
  {
   "cell_type": "code",
   "execution_count": 6,
   "id": "cf74f8c0",
   "metadata": {},
   "outputs": [],
   "source": [
    "# save to csv\n",
    "synthetic_impressions = pd.DataFrame(domain_impressions)\n",
    "synthetic_impressions.to_csv('synthetic_impressions/synthetic_q3_impressions.csv',index=False)\n",
    "synthetic_impressions.sample(1000).to_csv('synthetic_impressions/synthetic_q3_impressions_1k_sample.csv',index=False)"
   ]
  },
  {
   "cell_type": "code",
   "execution_count": 7,
   "id": "4640ec6a",
   "metadata": {},
   "outputs": [
    {
     "data": {
      "text/html": [
       "<div>\n",
       "<style scoped>\n",
       "    .dataframe tbody tr th:only-of-type {\n",
       "        vertical-align: middle;\n",
       "    }\n",
       "\n",
       "    .dataframe tbody tr th {\n",
       "        vertical-align: top;\n",
       "    }\n",
       "\n",
       "    .dataframe thead th {\n",
       "        text-align: right;\n",
       "    }\n",
       "</style>\n",
       "<table border=\"1\" class=\"dataframe\">\n",
       "  <thead>\n",
       "    <tr style=\"text-align: right;\">\n",
       "      <th></th>\n",
       "      <th>user_id</th>\n",
       "      <th>date</th>\n",
       "      <th>n_impressions</th>\n",
       "      <th>url_domain</th>\n",
       "    </tr>\n",
       "  </thead>\n",
       "  <tbody>\n",
       "    <tr>\n",
       "      <th>15647</th>\n",
       "      <td>569</td>\n",
       "      <td>2021-08-23</td>\n",
       "      <td>4</td>\n",
       "      <td>nytimes.com</td>\n",
       "    </tr>\n",
       "    <tr>\n",
       "      <th>14361</th>\n",
       "      <td>1603</td>\n",
       "      <td>2021-07-19</td>\n",
       "      <td>1</td>\n",
       "      <td>cnn.com</td>\n",
       "    </tr>\n",
       "    <tr>\n",
       "      <th>43520</th>\n",
       "      <td>711</td>\n",
       "      <td>2021-07-14</td>\n",
       "      <td>1</td>\n",
       "      <td>breitbart.com</td>\n",
       "    </tr>\n",
       "    <tr>\n",
       "      <th>32770</th>\n",
       "      <td>1861</td>\n",
       "      <td>2021-08-05</td>\n",
       "      <td>1</td>\n",
       "      <td>sports.yahoo.com</td>\n",
       "    </tr>\n",
       "    <tr>\n",
       "      <th>36910</th>\n",
       "      <td>77</td>\n",
       "      <td>2021-08-28</td>\n",
       "      <td>4</td>\n",
       "      <td>dailywire.com</td>\n",
       "    </tr>\n",
       "    <tr>\n",
       "      <th>38523</th>\n",
       "      <td>19</td>\n",
       "      <td>2021-07-02</td>\n",
       "      <td>1</td>\n",
       "      <td>pinknews.co.uk</td>\n",
       "    </tr>\n",
       "    <tr>\n",
       "      <th>57893</th>\n",
       "      <td>274</td>\n",
       "      <td>2021-08-22</td>\n",
       "      <td>1</td>\n",
       "      <td>louderwithcrowder.com</td>\n",
       "    </tr>\n",
       "    <tr>\n",
       "      <th>24450</th>\n",
       "      <td>1188</td>\n",
       "      <td>2021-09-22</td>\n",
       "      <td>1</td>\n",
       "      <td>forbes.com</td>\n",
       "    </tr>\n",
       "    <tr>\n",
       "      <th>28070</th>\n",
       "      <td>752</td>\n",
       "      <td>2021-09-26</td>\n",
       "      <td>1</td>\n",
       "      <td>yahoo.com</td>\n",
       "    </tr>\n",
       "    <tr>\n",
       "      <th>41323</th>\n",
       "      <td>574</td>\n",
       "      <td>2021-07-28</td>\n",
       "      <td>4</td>\n",
       "      <td>iheartdogs.com</td>\n",
       "    </tr>\n",
       "  </tbody>\n",
       "</table>\n",
       "</div>"
      ],
      "text/plain": [
       "       user_id        date  n_impressions             url_domain\n",
       "15647      569  2021-08-23              4            nytimes.com\n",
       "14361     1603  2021-07-19              1                cnn.com\n",
       "43520      711  2021-07-14              1          breitbart.com\n",
       "32770     1861  2021-08-05              1       sports.yahoo.com\n",
       "36910       77  2021-08-28              4          dailywire.com\n",
       "38523       19  2021-07-02              1         pinknews.co.uk\n",
       "57893      274  2021-08-22              1  louderwithcrowder.com\n",
       "24450     1188  2021-09-22              1             forbes.com\n",
       "28070      752  2021-09-26              1              yahoo.com\n",
       "41323      574  2021-07-28              4         iheartdogs.com"
      ]
     },
     "execution_count": 7,
     "metadata": {},
     "output_type": "execute_result"
    }
   ],
   "source": [
    "# show a sample\n",
    "synthetic_impressions.sample(10)"
   ]
  }
 ],
 "metadata": {
  "kernelspec": {
   "display_name": "Python 3 (ipykernel)",
   "language": "python",
   "name": "python3"
  },
  "language_info": {
   "codemirror_mode": {
    "name": "ipython",
    "version": 3
   },
   "file_extension": ".py",
   "mimetype": "text/x-python",
   "name": "python",
   "nbconvert_exporter": "python",
   "pygments_lexer": "ipython3",
   "version": "3.9.12"
  }
 },
 "nbformat": 4,
 "nbformat_minor": 5
}
