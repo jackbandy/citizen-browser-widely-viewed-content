{
 "cells": [
  {
   "cell_type": "markdown",
   "id": "f123ca07",
   "metadata": {},
   "source": [
    "# Create Synthetic Dataset"
   ]
  },
  {
   "cell_type": "code",
   "execution_count": 1,
   "id": "03026bef",
   "metadata": {},
   "outputs": [],
   "source": [
    "import pandas as pd\n",
    "df_hits = pd.read_csv('data/q3/impressions-top-1000-domains.csv')\n",
    "df_users = pd.read_csv('data/q3/unique_users-top-1000-domains.csv')\n",
    "df = df_users.merge(df_hits,on='url_domain')"
   ]
  },
  {
   "cell_type": "code",
   "execution_count": 2,
   "id": "8df6d686",
   "metadata": {},
   "outputs": [],
   "source": [
    "# citizen browser had 1,917 panelists as of December 2020\n",
    "# these are the \"data subjects\" whose privacy would need to be protected\n",
    "user_ids = pd.Series(list(range(1,1919)))"
   ]
  },
  {
   "cell_type": "code",
   "execution_count": 3,
   "id": "9305ccb7",
   "metadata": {},
   "outputs": [],
   "source": [
    "# create an empty list to hold all impressions\n",
    "domain_impressions = []"
   ]
  },
  {
   "cell_type": "code",
   "execution_count": 4,
   "id": "fd7cee6a",
   "metadata": {},
   "outputs": [],
   "source": [
    "# create series / list of dates\n",
    "\n",
    "# Q3 2021 was July 1st to September 30th\n",
    "dates_q3_2021 = pd.Series(pd.date_range(start=\"2021-07-01\",end=\"2021-09-30\").date)"
   ]
  },
  {
   "cell_type": "code",
   "execution_count": 5,
   "id": "08b9544e",
   "metadata": {},
   "outputs": [],
   "source": [
    "# synthesize impressions!\n",
    "for index, row in df.iterrows():\n",
    "    users = pd.Series(user_ids.sample(row['unique_users']))\n",
    "    # only include 10% of the impressions to reduce data size\n",
    "    for i in range(int(row['impressions'] / 10)):\n",
    "        to_append = {}\n",
    "        to_append['user_id'] = users.sample(1, ignore_index=True)[0]\n",
    "        to_append['impression_date'] = dates_q3_2021.sample(1, ignore_index=True)[0]\n",
    "        to_append['url_domain'] = row['url_domain']\n",
    "        domain_impressions.append(to_append)"
   ]
  },
  {
   "cell_type": "code",
   "execution_count": 6,
   "id": "cf74f8c0",
   "metadata": {},
   "outputs": [],
   "source": [
    "# save to csv\n",
    "synthetic_impressions = pd.DataFrame(domain_impressions)\n",
    "synthetic_impressions.to_csv('synthetic_impressions/synthetic_q3_impressions.csv',index=False)\n",
    "synthetic_impressions.sample(1000).to_csv('synthetic_impressions/synthetic_q3_impressions_1k_sample.csv',index=False)"
   ]
  },
  {
   "cell_type": "code",
   "execution_count": 7,
   "id": "4640ec6a",
   "metadata": {},
   "outputs": [
    {
     "data": {
      "text/html": [
       "<div>\n",
       "<style scoped>\n",
       "    .dataframe tbody tr th:only-of-type {\n",
       "        vertical-align: middle;\n",
       "    }\n",
       "\n",
       "    .dataframe tbody tr th {\n",
       "        vertical-align: top;\n",
       "    }\n",
       "\n",
       "    .dataframe thead th {\n",
       "        text-align: right;\n",
       "    }\n",
       "</style>\n",
       "<table border=\"1\" class=\"dataframe\">\n",
       "  <thead>\n",
       "    <tr style=\"text-align: right;\">\n",
       "      <th></th>\n",
       "      <th>user_id</th>\n",
       "      <th>impression_date</th>\n",
       "      <th>url_domain</th>\n",
       "    </tr>\n",
       "  </thead>\n",
       "  <tbody>\n",
       "    <tr>\n",
       "      <th>52759</th>\n",
       "      <td>749</td>\n",
       "      <td>2021-08-18</td>\n",
       "      <td>apost.com</td>\n",
       "    </tr>\n",
       "    <tr>\n",
       "      <th>45827</th>\n",
       "      <td>853</td>\n",
       "      <td>2021-09-29</td>\n",
       "      <td>gif-vif.com</td>\n",
       "    </tr>\n",
       "    <tr>\n",
       "      <th>43434</th>\n",
       "      <td>1838</td>\n",
       "      <td>2021-08-22</td>\n",
       "      <td>breitbart.com</td>\n",
       "    </tr>\n",
       "    <tr>\n",
       "      <th>16325</th>\n",
       "      <td>473</td>\n",
       "      <td>2021-07-02</td>\n",
       "      <td>nytimes.com</td>\n",
       "    </tr>\n",
       "    <tr>\n",
       "      <th>51415</th>\n",
       "      <td>126</td>\n",
       "      <td>2021-09-17</td>\n",
       "      <td>fastcompany.com</td>\n",
       "    </tr>\n",
       "    <tr>\n",
       "      <th>24508</th>\n",
       "      <td>162</td>\n",
       "      <td>2021-08-31</td>\n",
       "      <td>google.com</td>\n",
       "    </tr>\n",
       "    <tr>\n",
       "      <th>41851</th>\n",
       "      <td>397</td>\n",
       "      <td>2021-07-02</td>\n",
       "      <td>westernjournal.com</td>\n",
       "    </tr>\n",
       "    <tr>\n",
       "      <th>1305</th>\n",
       "      <td>147</td>\n",
       "      <td>2021-07-20</td>\n",
       "      <td>youtube.com</td>\n",
       "    </tr>\n",
       "    <tr>\n",
       "      <th>32825</th>\n",
       "      <td>1019</td>\n",
       "      <td>2021-09-14</td>\n",
       "      <td>sports.yahoo.com</td>\n",
       "    </tr>\n",
       "    <tr>\n",
       "      <th>11782</th>\n",
       "      <td>65</td>\n",
       "      <td>2021-08-20</td>\n",
       "      <td>npr.org</td>\n",
       "    </tr>\n",
       "  </tbody>\n",
       "</table>\n",
       "</div>"
      ],
      "text/plain": [
       "       user_id impression_date          url_domain\n",
       "52759      749      2021-08-18           apost.com\n",
       "45827      853      2021-09-29         gif-vif.com\n",
       "43434     1838      2021-08-22       breitbart.com\n",
       "16325      473      2021-07-02         nytimes.com\n",
       "51415      126      2021-09-17     fastcompany.com\n",
       "24508      162      2021-08-31          google.com\n",
       "41851      397      2021-07-02  westernjournal.com\n",
       "1305       147      2021-07-20         youtube.com\n",
       "32825     1019      2021-09-14    sports.yahoo.com\n",
       "11782       65      2021-08-20             npr.org"
      ]
     },
     "execution_count": 7,
     "metadata": {},
     "output_type": "execute_result"
    }
   ],
   "source": [
    "# show a sample\n",
    "synthetic_impressions.sample(10)"
   ]
  }
 ],
 "metadata": {
  "kernelspec": {
   "display_name": "Python 3 (ipykernel)",
   "language": "python",
   "name": "python3"
  },
  "language_info": {
   "codemirror_mode": {
    "name": "ipython",
    "version": 3
   },
   "file_extension": ".py",
   "mimetype": "text/x-python",
   "name": "python",
   "nbconvert_exporter": "python",
   "pygments_lexer": "ipython3",
   "version": "3.9.7"
  }
 },
 "nbformat": 4,
 "nbformat_minor": 5
}
